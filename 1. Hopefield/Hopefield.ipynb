{
 "metadata": {
  "name": "",
  "signature": "sha256:3073c6957f88c25347b2d5b089ddd48ea368b9f6e35cc863779dab585f9fa72f"
 },
 "nbformat": 3,
 "nbformat_minor": 0,
 "worksheets": [
  {
   "cells": [
    {
     "cell_type": "heading",
     "level": 1,
     "metadata": {},
     "source": [
      "Hopefield Networks"
     ]
    },
    {
     "cell_type": "markdown",
     "metadata": {},
     "source": [
      "Lets setup the required libraries for the notebook"
     ]
    },
    {
     "cell_type": "code",
     "collapsed": false,
     "input": [
      "%matplotlib inline\n",
      "\n",
      "import numpy as np\n",
      "import matplotlib.pyplot as plt\n",
      "import matplotlib.lines as mlines\n",
      "import matplotlib.patches as mpatches"
     ],
     "language": "python",
     "metadata": {},
     "outputs": [],
     "prompt_number": 1
    },
    {
     "cell_type": "markdown",
     "metadata": {},
     "source": [
      "Now we shall define the patterns to learn, in this case a set of letters D, J, C, and M"
     ]
    },
    {
     "cell_type": "code",
     "collapsed": false,
     "input": [
      "patterns = np.array([\n",
      "   [-1,-1,-1,-1,1,1,-1,1,1,-1,1,-1,1,1,-1,1,-1,1,1,-1,1,-1,-1,-1,1.],   # Letter D\n",
      "   [-1,-1,-1,-1,-1,1,1,1,-1,1,1,1,1,-1,1,-1,1,1,-1,1,-1,-1,-1,1,1.],    # Letter J\n",
      "   [1,-1,-1,-1,-1,-1,1,1,1,1,-1,1,1,1,1,-1,1,1,1,1,1,-1,-1,-1,-1.],     # Letter C\n",
      "   [-1,1,1,1,-1,-1,-1,1,-1,-1,-1,1,-1,1,-1,-1,1,1,1,-1,-1,1,1,1,-1.],]) # Letter M "
     ],
     "language": "python",
     "metadata": {},
     "outputs": [],
     "prompt_number": 3
    },
    {
     "cell_type": "markdown",
     "metadata": {},
     "source": [
      "In order to plot the letters, we should define the next function"
     ]
    },
    {
     "cell_type": "code",
     "collapsed": false,
     "input": [
      "def plotLetter(letter):        \n",
      "    black = '#000000'; white='#FFFFFF'; gray='#AAAAAA'\n",
      "    squareSide = 0.03\n",
      "    \n",
      "    fig = plt.figure(figsize=(0.35,0.35))\n",
      "    ax = plt.axes([0,0,6.5,6.5])\n",
      "    \n",
      "    ax.set_ylim([0,0.15])\n",
      "    ax.set_xlim([0,0.15])\n",
      "    ax.axes.get_yaxis().set_visible(False)\n",
      "    ax.axes.get_xaxis().set_visible(False)\n",
      "    \n",
      "    # Plotting squares\n",
      "    for i in xrange(25):\n",
      "        coords = np.array([i%5*squareSide, (4-i/5)*squareSide])\n",
      "        color = black if letter[i]< 0 else white\n",
      "        square = mpatches.Rectangle(coords, squareSide, squareSide, \n",
      "                                                      color = color, linewidth=0.5)\n",
      "        ax.add_patch(square)\n",
      "    \n",
      "    # Plotting grid\n",
      "    for i in xrange(6):\n",
      "        x = (5-i%5)*squareSide\n",
      "        s1, s2 = np.array([[x, x], [0, 5*squareSide]])\n",
      "        ax.add_line(mlines.Line2D(s1, s2, lw=1, color = gray ))\n",
      "        ax.add_line(mlines.Line2D(s2, s1, lw=1, color = gray ))"
     ],
     "language": "python",
     "metadata": {},
     "outputs": [],
     "prompt_number": 21
    },
    {
     "cell_type": "code",
     "collapsed": false,
     "input": [
      "plotLetter(patterns[3])"
     ],
     "language": "python",
     "metadata": {},
     "outputs": [
      {
       "metadata": {},
       "output_type": "display_data",
       "png": "[encoded data removed]",
       "text": [
        "<matplotlib.figure.Figure at 0x10d6397d0>"
       ]
      }
     ],
     "prompt_number": 22
    },
    {
     "cell_type": "code",
     "collapsed": false,
     "input": [],
     "language": "python",
     "metadata": {},
     "outputs": []
    }
   ],
   "metadata": {}
  }
 ]
}