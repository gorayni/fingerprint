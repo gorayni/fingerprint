{
 "metadata": {
  "name": "",
  "signature": "sha256:bf68234cbf66acad03af5da62ce27e3b201582025f39bdd3f2bb07aae8afa585"
 },
 "nbformat": 3,
 "nbformat_minor": 0,
 "worksheets": [
  {
   "cells": [
    {
     "cell_type": "markdown",
     "metadata": {},
     "source": [
      "Hopefield Networks\n",
      "=================="
     ]
    },
    {
     "cell_type": "markdown",
     "metadata": {},
     "source": [
      "Hopfield networks were introduced in [1982](http://cns.upf.edu/jclub/hopfield82.pdf) by [John Hopfield](http://genomics.princeton.edu/hopfield/Index.html) and they represent the return of Neural Networks to the Artificial Intelligence field. I will briefly explore its continuous version as a mean to understand Boltzmann Machines.\n",
      "\n",
      "The Hopfield nets are mainly used as associative memories and for solving optimization problems. The associative memory links concepts by association, for example when you hear or see an image of the Eiffel Tower you might recall that it is in Paris.\n",
      "\n",
      "The inputs and outputs of the Hopfield network are binary, so we can train it to remember  B&W images such as a collection of letters. For instance, we can teach them the next set of letters:"
     ]
    },
    {
     "cell_type": "markdown",
     "metadata": {},
     "source": [
      "<table border=\"0\" cellpadding=\"5\" cellspacing=\"3\" style=\"background-color: white; margin-left: auto; margin-right: auto; text-align: left;\">\n",
      "        <tbody>\n",
      "<tr>\n",
      "            <td><a href=\"letterC.png\" imageanchor=\"1\" style=\"margin-left: 1em; margin-right: 1em;\"><img border=\"0\" height=\"120\" src=\"letterC.png\" width=\"120\" /></a></td>\n",
      "<td><a href=\"letterD.png\" imageanchor=\"1\" style=\"margin-left: 1em; margin-right: 1em;\"><img border=\"0\" height=\"120\" src=\"letterD.png\" width=\"120\" /></a></td>\n",
      "<td><a href=\"letterJ.png\" imageanchor=\"1\" style=\"margin-left: 1em; margin-right: 1em;\"><img border=\"0\" height=\"120\" src=\"letterJ.png\" width=\"120\" /></a></td>\n",
      "<td><a href=\"letterM.png\" imageanchor=\"1\" style=\"margin-left: 1em; margin-right: 1em;\"><img border=\"0\" height=\"120\" src=\"letterM.png\" width=\"120\" /></a></td>\n",
      "          </tr>\n",
      "</tbody>\n",
      "      </table>\n",
      "<div style=\"text-align: center;\">\n",
      "<b>Fig. 1</b>. A set of 4 letters to be stored in a Hopfield Network. Based on <a href=\"http://www.inference.phy.cam.ac.uk/itila/\">MacKay</a>.</div>\n",
      "<div style=\"text-align: center;\">\n",
      "</div>"
     ]
    },
    {
     "cell_type": "markdown",
     "metadata": {},
     "source": [
      "So how does the Hopfield network recalls a pattern? Well, the recalling process is iterative and in each cycle all the neurons in the net are fired. This process ends when the state of the neurons doesn't change, as seen in the next figure."
     ]
    },
    {
     "cell_type": "markdown",
     "metadata": {},
     "source": [
      "<table border=\"0\" cellpadding=\"5\" cellspacing=\"3\" style=\"background-color: white; margin-left: auto; margin-right: auto; text-align: left;\">\n",
      "  <tbody>\n",
      "    <tr>\n",
      "      <td>\n",
      "        <a href=\"recallingProcess1.png\" imageanchor=\"1\" style=\"margin-left: 1em; margin-right: 1em;\">\n",
      "          <img border=\"0\" height=\"120\" src=\"recallingProcess1.png\" width=\"120\" />\n",
      "        </a>\n",
      "        <br />\n",
      "        <div style=\"text-align: center;\">\n",
      "          (a) Input pattern\n",
      "        </div>\n",
      "      </td>\n",
      "      <td>\n",
      "        <a href=\"recallingProcess2.png\" imageanchor=\"1\" style=\"margin-left: 1em; margin-right: 1em;\">\n",
      "          <img border=\"0\" height=\"120\" src=\"recallingProcess2.png\" width=\"120\" />\n",
      "        </a>\n",
      "        <br />\n",
      "        <div style=\"text-align: center;\">\n",
      "          (b) Iteration 1\n",
      "        </div>\n",
      "      </td>\n",
      "      <td>\n",
      "        <a href=\"recallingProcess3.png\" imageanchor=\"1\" style=\"margin-left: 1em; margin-right: 1em;\">\n",
      "          <img border=\"0\" height=\"120\" src=\"recallingProcess3.png\" width=\"120\" />\n",
      "        </a>\n",
      "        <br />\n",
      "        <div style=\"text-align: center;\">\n",
      "          (c) Iteration 2\n",
      "        </div>\n",
      "      </td>\n",
      "      <td>\n",
      "        <a href=\"recallingProcess4.png\" imageanchor=\"1\" style=\"margin-left: 1em; margin-right: 1em;\">\n",
      "          <img border=\"0\" height=\"120\" src=\"recallingProcess4.png\" width=\"120\" />\n",
      "        </a>\n",
      "        <br />\n",
      "        <div style=\"text-align: center;\">\n",
      "          (d) Iteration 3\n",
      "        </div>\n",
      "      </td>\n",
      "      <td>\n",
      "        <a href=\"recallingProcess5.png\" imageanchor=\"1\" style=\"margin-left: 1em; margin-right: 1em;\">\n",
      "          <img border=\"0\" height=\"120\" src=\"recallingProcess5.png\" width=\"120\" />\n",
      "        </a>\n",
      "        <br />\n",
      "        <div style=\"text-align: center;\">\n",
      "          (e) Final iteration\n",
      "        </div>\n",
      "      </td>\n",
      "    </tr>\n",
      "  </tbody>\n",
      "</table>\n",
      "<div style=\"text-align: center;\">\n",
      "  <b>\n",
      "    Fig. 2\n",
      "  </b>\n",
      "  . Recalling process of an input pattern.\n",
      "</div>"
     ]
    },
    {
     "cell_type": "markdown",
     "metadata": {},
     "source": [
      "We shall setup the notebook with the required libraries:"
     ]
    },
    {
     "cell_type": "code",
     "collapsed": false,
     "input": [
      "%matplotlib inline\n",
      "\n",
      "import numpy as np\n",
      "import matplotlib.pyplot as plt\n",
      "import matplotlib.lines as mlines\n",
      "import matplotlib.patches as mpatches"
     ],
     "language": "python",
     "metadata": {},
     "outputs": [],
     "prompt_number": 1
    },
    {
     "cell_type": "markdown",
     "metadata": {},
     "source": [
      "A simple representation for each letter is an array, so the patterns can be stored in a matrix:"
     ]
    },
    {
     "cell_type": "code",
     "collapsed": false,
     "input": [
      "patterns = np.array([\n",
      "   [-1,-1,-1,-1,1,1,-1,1,1,-1,1,-1,1,1,-1,1,-1,1,1,-1,1,-1,-1,-1,1.],   # Letter D\n",
      "   [-1,-1,-1,-1,-1,1,1,1,-1,1,1,1,1,-1,1,-1,1,1,-1,1,-1,-1,-1,1,1.],    # Letter J\n",
      "   [1,-1,-1,-1,-1,-1,1,1,1,1,-1,1,1,1,1,-1,1,1,1,1,1,-1,-1,-1,-1.],     # Letter C\n",
      "   [-1,1,1,1,-1,-1,-1,1,-1,-1,-1,1,-1,1,-1,-1,1,1,1,-1,-1,1,1,1,-1.],]) # Letter M "
     ],
     "language": "python",
     "metadata": {},
     "outputs": [],
     "prompt_number": 2
    },
    {
     "cell_type": "markdown",
     "metadata": {},
     "source": [
      "And we can plot any letter with the following function:"
     ]
    },
    {
     "cell_type": "code",
     "collapsed": false,
     "input": [
      "def plot_letter(letter):  \n",
      "    black = '#000000'; white='#FFFFFF'; gray='#AAAAAA'\n",
      "    squareSide = 1\n",
      "    \n",
      "    fig = plt.figure(figsize=(0.35,0.35))\n",
      "    ax = plt.axes([0,0,6.5,6.5])\n",
      "    \n",
      "    ax.set_ylim([0,5])\n",
      "    ax.set_xlim([0,5])\n",
      "    plt.gca().invert_yaxis()\n",
      "\n",
      "    # Plotting squares\n",
      "    for i in xrange(25):\n",
      "        coords = np.array([i%5*squareSide, (i/5)*squareSide])\n",
      "        color = black if letter[i]< 0 else white\n",
      "        square = mpatches.Rectangle(coords, squareSide, squareSide, \n",
      "                                                      color = color, linewidth=0.5)\n",
      "        ax.add_patch(square)\n",
      "    \n",
      "    # Plotting grid\n",
      "    for i in xrange(6):\n",
      "        x = (5-i%5)*squareSide\n",
      "        s1, s2 = np.array([[x, x], [0, 5*squareSide]])\n",
      "        ax.add_line(mlines.Line2D(s1, s2, lw=1, color = gray ))\n",
      "        ax.add_line(mlines.Line2D(s2, s1, lw=1, color = gray ))"
     ],
     "language": "python",
     "metadata": {},
     "outputs": [],
     "prompt_number": 3
    },
    {
     "cell_type": "markdown",
     "metadata": {},
     "source": [
      "#Architecture\n",
      "\n",
      "A Hopfield net is a set of neurons that are:\n",
      "\n",
      "* Bidirectionally connected between each other with symmetric weights, i.e. the weights between all neurons $i$ and $j$ are $w_{ij}=w_{ji}$.\n",
      "* Not self-connected, this means that $w_{ii}=0$.\n",
      "\n",
      "Both properties are illustrated in Fig. 3, where a Hopfield network consisting of 5 neurons is shown."
     ]
    },
    {
     "cell_type": "markdown",
     "metadata": {},
     "source": [
      "<div style=\"text-align: center;\"><img border=\"0\" height=\"294\" src=\"hopfieldArchitecture.png\" width=\"300\" /></div>\n",
      "<div style=\"text-align: center;\"><b>Fig. 3</b>. Hopfield network architecture.</div>"
     ]
    },
    {
     "cell_type": "markdown",
     "metadata": {},
     "source": [
      "One property that the diagram fails to capture it is the recurrency of the network. The Hopfield networks are recurrent because the inputs of each neuron are the outputs of the others, i.e. it posses feedback loops as seen in Fig. 4. This last property is better understood by the recalling process.\n"
     ]
    },
    {
     "cell_type": "markdown",
     "metadata": {},
     "source": [
      "<div style=\"text-align: center;\"><img border=\"0\" height=\"259\" src=\"recurrentHopfield.png\" width=\"600\" /></div>\n",
      "<div style=\"text-align: center;\"><b>Fig. 4</b>. A Hopfield network consisting of 5 neurons with feedback loops. Based on <a href=\"http://books.google.com.mx/books?id=M5abQgAACAAJ&amp;dq=haykin+neural+networks&amp;hl=en&amp;sa=X&amp;ei=Is4BUrvEJ-bkyQHbiYGQBA&amp;redir_esc=y\">Haykin</a>.</div>\n"
     ]
    },
    {
     "cell_type": "markdown",
     "metadata": {},
     "source": [
      "#Learning Rule\n",
      "\n",
      "In order to learn a set of patterns $\\textbf{x}^{(n)}$, such as the four letters presented above, the weights of the net must be set using the Hebb Rule:\n",
      "\n",
      "$$w_{ij}=\\eta\\sum_n{x_{i}^{(n)}x_{j}^{(n)}}$$\n",
      "where $\\eta$ is a constant that might be set to $\\eta=1/N$ for $N$ patterns. In the case of the continuous Hopfield network, this constant prevents the weight from growing with $N$. The idea of the Hebbian rule is that two neurons that are repeatedly fired at the same time must have a stronger association.\n",
      "\n",
      "So the learning function is as follows:"
     ]
    },
    {
     "cell_type": "code",
     "collapsed": false,
     "input": [
      "def train(patterns):\n",
      "    n, m = patterns.shape\n",
      "    eta = 1./n\n",
      "\n",
      "    weights = np.zeros((m,m))\n",
      "    for i in xrange(m-1):\n",
      "        for j in xrange(i+1,m):\n",
      "            weights[i,j] = eta*np.dot(patterns[:,i], patterns[:,j])\n",
      "            weights[j,i] = weights[i,j] \n",
      "            \n",
      "    return weights"
     ],
     "language": "python",
     "metadata": {},
     "outputs": [],
     "prompt_number": 4
    },
    {
     "cell_type": "markdown",
     "metadata": {},
     "source": [
      "#Activity Rule\n",
      "\n",
      "The activation $a_{i}$ of the neuron $i$ is given  by\n",
      "\n",
      "$$a_{i}=\\eta\\sum_j{w_{ij}x_{j}}$$\n",
      "\n",
      "and the update of the state $x_{i}$ for the continuous case is given by\n",
      "\n",
      "$$x_{i}=\\tanh{(a_{i})}$$\n",
      "\n",
      "The order of the neuron updates can be performed synchronously or asynchronously. In the former kind the activation and update of all neurons are done at the same time. In the latter kind the neurons are activated and updates sequentially and its order is randomly permuted beforehand.\n",
      "\n",
      "The recall function can be stated as:"
     ]
    },
    {
     "cell_type": "code",
     "collapsed": false,
     "input": [
      "def recall(weights, states, maxNumItr):\n",
      "    EPS = np.finfo(np.float).eps\n",
      "    \n",
      "    activations = np.zeros(states.shape)\n",
      "    states_are_unstable = True; itr=0\n",
      "    while states_are_unstable and itr<maxNumItr:\n",
      "        prevStates = states.copy()\n",
      "        for i in np.random.permutation(states.size): # asynchronous activation\n",
      "            activations[i] = np.dot(weights[i,:], states)\n",
      "            states[i]=np.tanh(activations[i])\n",
      "        \n",
      "        states_are_unstable = not np.allclose(states, prevStates, EPS)\n",
      "        itr=itr+1\n",
      "        \n",
      "    return states"
     ],
     "language": "python",
     "metadata": {},
     "outputs": [],
     "prompt_number": 5
    },
    {
     "cell_type": "markdown",
     "metadata": {},
     "source": [
      "#Learning Rule\n",
      "\n",
      "In order to learn a set of patterns $\\textbf{x}^{(n)}$, such as the four letters presented above, the weights of the net must be set using the Hebb Rule:\n",
      "\n",
      "$$w_{ij}=\\eta\\sum_n{x_{i}^{(n)}x_{j}^{(n)}}$$\n",
      "where $\\eta$ is a constant that might be set to $\\eta=1/N$ for $N$ patterns. In the case of the continuous Hopfield network, this constant prevents the weight from growing with $N$. The idea of the Hebbian rule is that two neurons that are repeatedly fired at the same time must have a stronger association.\n",
      "\n",
      "#Activity Rule\n",
      "\n",
      "The activation $a_{i}$ of the neuron $i$ is given  by\n",
      "\n",
      "$$a_{i}=\\eta\\sum_j{w_{ij}x_{j}}$$\n",
      "\n",
      "and the update of the state $x_{i}$ for the continuous case is given by\n",
      "\n",
      "$$x_{i}=\\tanh{(a_{i})}$$\n",
      "\n",
      "The order of the neuron updates can be performed synchronously or asynchronously. In the former kind the activation and update of all neurons are done at the same time. In the latter kind the neurons are activated and updates sequentially and its order is randomly permuted beforehand.\n",
      "\n",
      "#Convergence\n",
      "\n",
      "After seeing the recalling process example one might be wondering many interesting questions like does the Hopfield network will always stabilize? The answer is yes, but the net might not recall the correct pattern. This could happen if the net is overloaded or the weights were altered.\n",
      "\n",
      "The convergence to a stable state is guaranteed for networks that have the two main characteristics of its architecture and that follows an asynchronous update procedure.\n",
      "\n",
      "Please note that in this post I didn't provide any mathematical proof for the convergence neither I talked about attractors, nonlinear dynamical systems, and Lyapunov functions. Maybe I will talk about them in a future post, in the meantime please see the references section.\n",
      "\n",
      "# Example\n",
      "\n",
      "Now lets code the example of Fig. 2, first we have to train the weights with the memory patterns:"
     ]
    },
    {
     "cell_type": "code",
     "collapsed": false,
     "input": [
      "weights = train(patterns)"
     ],
     "language": "python",
     "metadata": {},
     "outputs": [],
     "prompt_number": 6
    },
    {
     "cell_type": "markdown",
     "metadata": {},
     "source": [
      "Lets define and plot the example input pattern:"
     ]
    },
    {
     "cell_type": "code",
     "collapsed": false,
     "input": [
      "states = np.array([1,1,1,1,-1,1,-1,1,1,-1,1,1,-1,1,1,1,1,1,1,-1,-1,1,1,1,1.])\n",
      "plot_letter(states)"
     ],
     "language": "python",
     "metadata": {},
     "outputs": [
      {
       "metadata": {},
       "output_type": "display_data",
       "png": "[encoded data removed]",
       "text": [
        "<matplotlib.figure.Figure at 0x108d53d90>"
       ]
      }
     ],
     "prompt_number": 7
    },
    {
     "cell_type": "markdown",
     "metadata": {},
     "source": [
      "Finally, lets just randomly recall the input pattern for four iterations, please note that it approximately takes twenty five iterations to stabilize numerically:"
     ]
    },
    {
     "cell_type": "code",
     "collapsed": false,
     "input": [
      "np.random.seed(10)\n",
      "\n",
      "for i in range(4):\n",
      "    states = recall(weights, states, 1)\n",
      "    plot_letter(states)"
     ],
     "language": "python",
     "metadata": {},
     "outputs": [
      {
       "metadata": {},
       "output_type": "display_data",
       "png": "[encoded data removed]",
       "text": [
        "<matplotlib.figure.Figure at 0x108e56990>"
       ]
      },
      {
       "metadata": {},
       "output_type": "display_data",
       "png": "[encoded data removed]",
       "text": [
        "<matplotlib.figure.Figure at 0x109065850>"
       ]
      },
      {
       "metadata": {},
       "output_type": "display_data",
       "png": "[encoded data removed]",
       "text": [
        "<matplotlib.figure.Figure at 0x1091a09d0>"
       ]
      },
      {
       "metadata": {},
       "output_type": "display_data",
       "png": "[encoded data removed]",
       "text": [
        "<matplotlib.figure.Figure at 0x1092d8b50>"
       ]
      }
     ],
     "prompt_number": 8
    },
    {
     "cell_type": "markdown",
     "metadata": {},
     "source": [
      "# References\n",
      "\n",
      "I heavily used the book [Information Theory, Inference and Learning Algorithms](http://www.inference.phy.cam.ac.uk/itila/) by [David MacKay](http://www.inference.phy.cam.ac.uk/mackay/) for writing this post. The example presented in this post is discussed in depth in the same book. Another good source for understanding the training and update procedures is presented in this page.  By the way, David MacKay is one of Hopfield's PhD alumni.\n",
      "\n",
      "I also found useful these books [Neural Networks and Learning Machines](http://www.amazon.com/Neural-Networks-Learning-Machines-Edition/dp/0131471392), [Bayesian Reasoning and Machine Learning](http://web4.cs.ucl.ac.uk/staff/D.Barber/pmwiki/pmwiki.php?n=Brml.HomePage), and [Neural Networks - A Systematic Introduction](http://page.mi.fu-berlin.de/rojas/neural/neuron.pdf). Another resources on the web are [Wikipedia](https://en.wikipedia.org/wiki/Hopfield_network) and [Scholarpedia](http://www.scholarpedia.org/article/Hopfield_network)."
     ]
    }
   ],
   "metadata": {}
  }
 ]
}